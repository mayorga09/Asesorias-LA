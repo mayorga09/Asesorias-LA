{
 "cells": [
  {
   "cell_type": "markdown",
   "metadata": {
    "id": "-ZxV91Ty2-Pz"
   },
   "source": [
    "# Deparamento de asesorias \n",
    "Facultad de Ciencias Fisico Matemáticas\n"
   ]
  },
  {
   "cell_type": "markdown",
   "metadata": {
    "id": "UFFBEruv3Ngz"
   },
   "source": [
    "Python se ha convertido en el lenguaje de programación mas usado en “Data Science” y Machine Learning.\n",
    "Para la realizacion de algoritmos usaremos notebooks que es una opcion de Google y es ofrecida de forma gratuita en la nube a quienes tienen una cuenta de Google. Esta herramienta es “Google Colaboratory” o mejor conocida como “Google Colab”, que no es otra cosa que notebooks de Jupyterlab que podemos ejecutar enla nube y que se almacenara en nuestro Google Drive."
   ]
  },
  {
   "cell_type": "markdown",
   "metadata": {
    "id": "d24P0y1B4IGn"
   },
   "source": [
    "Primero revisaremos como asignar variables y darles valor.\n",
    "Si a una variable x1 queremos darle un valor de 3.14 podemos hacerlo de la siguiente manera:\n"
   ]
  },
  {
   "cell_type": "code",
   "execution_count": 1,
   "metadata": {
    "id": "fIYnhJN741xQ"
   },
   "outputs": [],
   "source": [
    "x1 = 3.14"
   ]
  },
  {
   "cell_type": "markdown",
   "metadata": {
    "id": "mMf2xiXm47HW"
   },
   "source": [
    "Y para poder ver el valor de la variable solo falta en ejecutar el nombre de esta."
   ]
  },
  {
   "cell_type": "code",
   "execution_count": 2,
   "metadata": {
    "colab": {
     "base_uri": "https://localhost:8080/"
    },
    "id": "b--k1sii5Cz7",
    "outputId": "7a8d7aac-ce74-47fa-c2fc-ba055a764d40"
   },
   "outputs": [
    {
     "data": {
      "text/plain": [
       "3.14"
      ]
     },
     "execution_count": 2,
     "metadata": {},
     "output_type": "execute_result"
    }
   ],
   "source": [
    "x1"
   ]
  },
  {
   "cell_type": "markdown",
   "metadata": {
    "id": "hh5q6zOP5Gkr"
   },
   "source": [
    "Cabe destacar que para variables que son texto debemos ponerlo entre comillas"
   ]
  },
  {
   "cell_type": "code",
   "execution_count": 3,
   "metadata": {
    "id": "QmTFVsPU5QN0"
   },
   "outputs": [],
   "source": [
    "x2 = 'A'"
   ]
  },
  {
   "cell_type": "code",
   "execution_count": 4,
   "metadata": {
    "colab": {
     "base_uri": "https://localhost:8080/",
     "height": 36
    },
    "id": "LfZnomt85Ukr",
    "outputId": "94a1265d-edb1-47f9-c98c-f645e6968680"
   },
   "outputs": [
    {
     "data": {
      "application/vnd.google.colaboratory.intrinsic+json": {
       "type": "string"
      },
      "text/plain": [
       "'A'"
      ]
     },
     "execution_count": 4,
     "metadata": {},
     "output_type": "execute_result"
    }
   ],
   "source": [
    "x2"
   ]
  },
  {
   "cell_type": "markdown",
   "metadata": {
    "id": "n-YBniav5cPY"
   },
   "source": [
    "Podemos realizar muchas operaciones en pyhton, incluso procedimientos que toman mucho tiempo hacerlos a mano, aqui solo basta con una linea de codigo. Pero empecemos con las operaciones básicas"
   ]
  },
  {
   "cell_type": "code",
   "execution_count": 5,
   "metadata": {
    "colab": {
     "base_uri": "https://localhost:8080/"
    },
    "id": "EBqCZ56A5v9X",
    "outputId": "c13661ce-e887-42c6-efd8-db172894a66f"
   },
   "outputs": [
    {
     "data": {
      "text/plain": [
       "8"
      ]
     },
     "execution_count": 5,
     "metadata": {},
     "output_type": "execute_result"
    }
   ],
   "source": [
    "#sumar 3 + 5\n",
    "3 + 5"
   ]
  },
  {
   "cell_type": "code",
   "execution_count": 6,
   "metadata": {
    "colab": {
     "base_uri": "https://localhost:8080/"
    },
    "id": "bQfo2wxu504X",
    "outputId": "fd5e025f-3b49-4438-ebe4-d40b303b779b"
   },
   "outputs": [
    {
     "data": {
      "text/plain": [
       "5"
      ]
     },
     "execution_count": 6,
     "metadata": {},
     "output_type": "execute_result"
    }
   ],
   "source": [
    "#Restar 9 - 4\n",
    "9 - 4"
   ]
  },
  {
   "cell_type": "code",
   "execution_count": 7,
   "metadata": {
    "colab": {
     "base_uri": "https://localhost:8080/"
    },
    "id": "XUhhW7eP55cR",
    "outputId": "a0631ca3-8dae-4aea-ef4e-c44afb126b20"
   },
   "outputs": [
    {
     "data": {
      "text/plain": [
       "48"
      ]
     },
     "execution_count": 7,
     "metadata": {},
     "output_type": "execute_result"
    }
   ],
   "source": [
    "#Multiplicar 6 * 8\n",
    "6 * 8"
   ]
  },
  {
   "cell_type": "code",
   "execution_count": 8,
   "metadata": {
    "colab": {
     "base_uri": "https://localhost:8080/"
    },
    "id": "Z4TZqnyr5840",
    "outputId": "b34ca1c8-c699-4efe-b31a-de5e0ec85a9c"
   },
   "outputs": [
    {
     "data": {
      "text/plain": [
       "5.0"
      ]
     },
     "execution_count": 8,
     "metadata": {},
     "output_type": "execute_result"
    }
   ],
   "source": [
    "#Dividir 15/3\n",
    "15 / 3"
   ]
  },
  {
   "cell_type": "code",
   "execution_count": 9,
   "metadata": {
    "colab": {
     "base_uri": "https://localhost:8080/"
    },
    "id": "SeNe3KA86AQ0",
    "outputId": "fb45e02c-9c28-4404-a1a4-ce0d347a6eeb"
   },
   "outputs": [
    {
     "data": {
      "text/plain": [
       "81"
      ]
     },
     "execution_count": 9,
     "metadata": {},
     "output_type": "execute_result"
    }
   ],
   "source": [
    "#Potencia 9 ** 2\n",
    "9 ** 2"
   ]
  },
  {
   "cell_type": "code",
   "execution_count": 10,
   "metadata": {
    "colab": {
     "base_uri": "https://localhost:8080/"
    },
    "id": "UxUWd2Ik6MVa",
    "outputId": "28e78d20-2766-4c91-ff44-369c9485250b"
   },
   "outputs": [
    {
     "data": {
      "text/plain": [
       "4"
      ]
     },
     "execution_count": 10,
     "metadata": {},
     "output_type": "execute_result"
    }
   ],
   "source": [
    "#Tambien podemos elevar un numero a una potencia de esta manera: pow(numero, potencia)\n",
    "pow(2,2)"
   ]
  },
  {
   "cell_type": "markdown",
   "metadata": {
    "id": "wAk8k_2s6ZtC"
   },
   "source": [
    "Notese que se hizo uso de \"#\" para poner texto en celdas que estan destinadas a codigo"
   ]
  },
  {
   "cell_type": "markdown",
   "metadata": {
    "id": "rQdNxUnC6oBR"
   },
   "source": [
    "Tambien podemos usar strings"
   ]
  },
  {
   "cell_type": "code",
   "execution_count": 11,
   "metadata": {
    "colab": {
     "base_uri": "https://localhost:8080/",
     "height": 36
    },
    "id": "pnYqwaId6y1L",
    "outputId": "53d2b692-8ca9-4055-bd6e-82ac1493b46b"
   },
   "outputs": [
    {
     "data": {
      "application/vnd.google.colaboratory.intrinsic+json": {
       "type": "string"
      },
      "text/plain": [
       "'FCFM'"
      ]
     },
     "execution_count": 11,
     "metadata": {},
     "output_type": "execute_result"
    }
   ],
   "source": [
    "'F' + 'C' + 'F' + 'M'"
   ]
  },
  {
   "cell_type": "markdown",
   "metadata": {
    "id": "PKcIFIlY7pg6"
   },
   "source": [
    "**Valores booleanos**"
   ]
  },
  {
   "cell_type": "markdown",
   "metadata": {
    "id": "RHqtAZ5V7yZi"
   },
   "source": [
    "Los valores booleanos son:\n",
    "####Igualdad ==\n",
    "####Distintos !=\n",
    "####Mayor que >\n",
    "####Menor que <\n",
    "####Mayor o igual que >=\n",
    "####Menor o igual que <="
   ]
  },
  {
   "cell_type": "code",
   "execution_count": 12,
   "metadata": {
    "colab": {
     "base_uri": "https://localhost:8080/"
    },
    "id": "MJwGzZZ98CDW",
    "outputId": "b683b057-f1ae-4b64-c203-6a66e0bdb05e"
   },
   "outputs": [
    {
     "data": {
      "text/plain": [
       "True"
      ]
     },
     "execution_count": 12,
     "metadata": {},
     "output_type": "execute_result"
    }
   ],
   "source": [
    "7 > 5"
   ]
  },
  {
   "cell_type": "code",
   "execution_count": 14,
   "metadata": {
    "colab": {
     "base_uri": "https://localhost:8080/"
    },
    "id": "oldmkACP8P61",
    "outputId": "e91141ea-a8e6-4dc4-c4dc-d05aa5f3c573"
   },
   "outputs": [
    {
     "data": {
      "text/plain": [
       "False"
      ]
     },
     "execution_count": 14,
     "metadata": {},
     "output_type": "execute_result"
    }
   ],
   "source": [
    "10 < 5 & 3 < 2"
   ]
  },
  {
   "cell_type": "code",
   "execution_count": 15,
   "metadata": {
    "colab": {
     "base_uri": "https://localhost:8080/"
    },
    "id": "riOloRPa8eof",
    "outputId": "8d76f932-76f2-4434-d145-b4f2730dcf94"
   },
   "outputs": [
    {
     "data": {
      "text/plain": [
       "False"
      ]
     },
     "execution_count": 15,
     "metadata": {},
     "output_type": "execute_result"
    }
   ],
   "source": [
    "2 == 3"
   ]
  },
  {
   "cell_type": "markdown",
   "metadata": {
    "id": "MI2y9VGb8nkh"
   },
   "source": [
    "**Listas en Python**\n",
    "Una lista es una coleccion de objetos"
   ]
  },
  {
   "cell_type": "code",
   "execution_count": 30,
   "metadata": {
    "id": "aMhbjdO18zvx"
   },
   "outputs": [],
   "source": [
    "#Creemos una lista\n",
    "alumno1 = ['Maria', 'Gonzalez', 21]\n"
   ]
  },
  {
   "cell_type": "code",
   "execution_count": 31,
   "metadata": {
    "colab": {
     "base_uri": "https://localhost:8080/"
    },
    "id": "WNm6Gsvf9ABf",
    "outputId": "ce021d39-5ece-406c-8b3d-83ffdec8e152"
   },
   "outputs": [
    {
     "name": "stdout",
     "output_type": "stream",
     "text": [
      "['Maria', 'Gonzalez', 21]\n"
     ]
    }
   ],
   "source": [
    "#Veamos el contenido de la lista, tambien podemos hacerlo de esta manera\n",
    "print(alumno1)"
   ]
  },
  {
   "cell_type": "markdown",
   "metadata": {
    "id": "x3TRRmmH9HgC"
   },
   "source": [
    "Hay que tomar en cuenta que python cuenta desde cero, es decir que la posicion de un elemento en una lista se empieza a contar desde el cero. Si queremos escoger 'Gonzalez' seria el elemento 1"
   ]
  },
  {
   "cell_type": "code",
   "execution_count": 32,
   "metadata": {
    "colab": {
     "base_uri": "https://localhost:8080/",
     "height": 36
    },
    "id": "9oktA9Xm9Yf9",
    "outputId": "19fd5c5b-183b-422d-c357-db88fbcd3973"
   },
   "outputs": [
    {
     "data": {
      "application/vnd.google.colaboratory.intrinsic+json": {
       "type": "string"
      },
      "text/plain": [
       "'Gonzalez'"
      ]
     },
     "execution_count": 32,
     "metadata": {},
     "output_type": "execute_result"
    }
   ],
   "source": [
    "#Quiero seleccionar el apellido de mi lista\n",
    "alumno1[1]"
   ]
  },
  {
   "cell_type": "markdown",
   "metadata": {
    "id": "MUpuVOfa9kMK"
   },
   "source": [
    "Tambien podemos añadir elementos a una lista"
   ]
  },
  {
   "cell_type": "code",
   "execution_count": 33,
   "metadata": {
    "colab": {
     "base_uri": "https://localhost:8080/"
    },
    "id": "3BwIDE2n-Als",
    "outputId": "de550e80-4616-47cc-b9d6-0d5266749387"
   },
   "outputs": [
    {
     "data": {
      "text/plain": [
       "['Maria', 'Gonzalez', 21, 'Femenino']"
      ]
     },
     "execution_count": 33,
     "metadata": {},
     "output_type": "execute_result"
    }
   ],
   "source": [
    "alumno1.append('Femenino')\n",
    "alumno1"
   ]
  },
  {
   "cell_type": "markdown",
   "metadata": {
    "id": "qKBaVqVt-HIW"
   },
   "source": [
    "Tambien podemos eliminar"
   ]
  },
  {
   "cell_type": "code",
   "execution_count": 34,
   "metadata": {
    "colab": {
     "base_uri": "https://localhost:8080/"
    },
    "id": "LgbHIF5r-JMY",
    "outputId": "b57af4b7-a8f1-49ce-c912-b931173f55a4"
   },
   "outputs": [
    {
     "data": {
      "text/plain": [
       "['Maria', 21, 'Femenino']"
      ]
     },
     "execution_count": 34,
     "metadata": {},
     "output_type": "execute_result"
    }
   ],
   "source": [
    "alumno1.remove('Gonzalez')\n",
    "alumno1"
   ]
  },
  {
   "cell_type": "markdown",
   "metadata": {},
   "source": [
    "# Librerías para Estadística en Python"
   ]
  },
  {
   "cell_type": "markdown",
   "metadata": {},
   "source": [
    "Empezaremos explorando la librería PANDAS, una de las más importantes para la administración de datos.\n",
    "A partir de este punto, y los siguientes capítulos, examinaremos las más importantes y más usadas librerías:\n",
    "* \tPandas: importa, administra y manipula data frames en diversos formatos, extrae parte de la información, combina y también contiene estadísticos básicos\n",
    "* \tNumPy: paquete para computación científica, contiene muchas funciones de muy alto nivel matemático, además genera números aleatorios y permite la creación de arreglos.\n",
    "* \tMatplotlib: librería que permite la creación de graficas a partir de los datos\n",
    "*   SciPy: contiene más de 60 funciones estadísticas y matemáticas\n",
    "*   Scikit-learn: la herramienta más importante para el análisis estadístico y machine \n"
   ]
  },
  {
   "cell_type": "markdown",
   "metadata": {},
   "source": [
    "## Pandas"
   ]
  },
  {
   "cell_type": "markdown",
   "metadata": {},
   "source": [
    "Pandas es una biblioteca Python de código abierto que contiene varias herramientas para importar, gestionar y manipular datos. Tiene una serie de alto nivel características para manipular, reorganizar y escanear datos estructurados, incluyendo el corte, la gestión de valores perdidos, la reestructuración de datos, la extracción partes de conjuntos de datos e importación y análisis de datos desde la Web.\n",
    "Podemos:\n",
    "* \tLeer e importar datos estructurados\n",
    "* \tOrganizar y manipularlos\n",
    "*   Calcular estadísticos básicos"
   ]
  },
  {
   "cell_type": "markdown",
   "metadata": {},
   "source": [
    "Podemos importar la librería completa de la siguiente manera:"
   ]
  },
  {
   "cell_type": "code",
   "execution_count": 1,
   "metadata": {},
   "outputs": [],
   "source": [
    "import pandas as pd"
   ]
  },
  {
   "cell_type": "markdown",
   "metadata": {},
   "source": [
    "O solo la estructura primaria en Pandas, que son las series y los data frames:"
   ]
  },
  {
   "cell_type": "code",
   "execution_count": 2,
   "metadata": {},
   "outputs": [],
   "source": [
    "from pandas import Series, DataFrame"
   ]
  },
  {
   "cell_type": "markdown",
   "metadata": {},
   "source": [
    "## Pandas: Series\n",
    "Como primera acción, siempre se instala y descarga el paquete, de la siguiente manera:"
   ]
  },
  {
   "cell_type": "code",
   "execution_count": 3,
   "metadata": {},
   "outputs": [],
   "source": [
    "import pandas as pd"
   ]
  },
  {
   "cell_type": "markdown",
   "metadata": {},
   "source": [
    "Como se puede, se importó la librería con su nombre abreviado: pd. Para llamar una función de pandas lo escribimos de la siguiente manera:\n",
    "*pd.function_name()*\n"
   ]
  },
  {
   "cell_type": "markdown",
   "metadata": {},
   "source": [
    "O solo la estructura primaria en Pandas, que son las series y los data frames:"
   ]
  },
  {
   "cell_type": "code",
   "execution_count": 4,
   "metadata": {},
   "outputs": [],
   "source": [
    "from pandas import Series, DataFrame"
   ]
  },
  {
   "cell_type": "markdown",
   "metadata": {},
   "source": [
    "En este caso al momento de crear alguna de estas dos estructuras no es necesario especificar “pd” al inicio. \n",
    "La primera estructura que veremos serán las series, las cuales están conformadas por un arreglo unidimensional ordenado por un índice. Creemos nuestra primera serie:\n"
   ]
  },
  {
   "cell_type": "code",
   "execution_count": 5,
   "metadata": {},
   "outputs": [],
   "source": [
    "series1 = Series([25, 27, 28, 30], \n",
    "    index = [\"student1\", \"student2\", \"student3\", \"student4\"]) \n"
   ]
  },
  {
   "cell_type": "code",
   "execution_count": 6,
   "metadata": {},
   "outputs": [
    {
     "name": "stdout",
     "output_type": "stream",
     "text": [
      "student1    25\n",
      "student2    27\n",
      "student3    28\n",
      "student4    30\n",
      "dtype: int64\n"
     ]
    }
   ],
   "source": [
    "print(series1) "
   ]
  },
  {
   "cell_type": "code",
   "execution_count": 7,
   "metadata": {},
   "outputs": [
    {
     "data": {
      "text/plain": [
       "count     4.000000\n",
       "mean     27.500000\n",
       "std       2.081666\n",
       "min      25.000000\n",
       "25%      26.500000\n",
       "50%      27.500000\n",
       "75%      28.500000\n",
       "max      30.000000\n",
       "dtype: float64"
      ]
     },
     "execution_count": 7,
     "metadata": {},
     "output_type": "execute_result"
    }
   ],
   "source": [
    "#Podemos usar la función .describe() para adquirir algo de información estadística acerca de la serie\n",
    "series1.describe() "
   ]
  },
  {
   "cell_type": "markdown",
   "metadata": {},
   "source": [
    "Veamos el primer elemento de la serie"
   ]
  },
  {
   "cell_type": "code",
   "execution_count": 8,
   "metadata": {},
   "outputs": [
    {
     "data": {
      "text/plain": [
       "25"
      ]
     },
     "execution_count": 8,
     "metadata": {},
     "output_type": "execute_result"
    }
   ],
   "source": [
    "series1[0]"
   ]
  },
  {
   "cell_type": "markdown",
   "metadata": {},
   "source": [
    "También podemos extraer múltiples elementos"
   ]
  },
  {
   "cell_type": "code",
   "execution_count": 9,
   "metadata": {},
   "outputs": [
    {
     "data": {
      "text/plain": [
       "student3    28\n",
       "student4    30\n",
       "dtype: int64"
      ]
     },
     "execution_count": 9,
     "metadata": {},
     "output_type": "execute_result"
    }
   ],
   "source": [
    "series1[[2,3]]"
   ]
  },
  {
   "cell_type": "markdown",
   "metadata": {},
   "source": [
    "O extraerlo por el índice"
   ]
  },
  {
   "cell_type": "code",
   "execution_count": 10,
   "metadata": {},
   "outputs": [
    {
     "data": {
      "text/plain": [
       "25"
      ]
     },
     "execution_count": 10,
     "metadata": {},
     "output_type": "execute_result"
    }
   ],
   "source": [
    "series1[\"student1\"] "
   ]
  },
  {
   "cell_type": "markdown",
   "metadata": {},
   "source": [
    "La función .index nos permite ver el índice de la serie"
   ]
  },
  {
   "cell_type": "code",
   "execution_count": 11,
   "metadata": {},
   "outputs": [
    {
     "data": {
      "text/plain": [
       "Index(['student1', 'student2', 'student3', 'student4'], dtype='object')"
      ]
     },
     "execution_count": 11,
     "metadata": {},
     "output_type": "execute_result"
    }
   ],
   "source": [
    "series1.index "
   ]
  },
  {
   "cell_type": "markdown",
   "metadata": {},
   "source": [
    "También podemos comprobar la existencia de un elemento en la serie"
   ]
  },
  {
   "cell_type": "code",
   "execution_count": 12,
   "metadata": {},
   "outputs": [
    {
     "data": {
      "text/plain": [
       "True"
      ]
     },
     "execution_count": 12,
     "metadata": {},
     "output_type": "execute_result"
    }
   ],
   "source": [
    "'student2' in series1 "
   ]
  },
  {
   "cell_type": "markdown",
   "metadata": {},
   "source": [
    "Si no importamos las series y los data frames separados, podemos crear una serie especificando que estaremos usando pandas:"
   ]
  },
  {
   "cell_type": "code",
   "execution_count": 13,
   "metadata": {},
   "outputs": [],
   "source": [
    "series2 = pd.Series([40, 20, 35, 70], \n",
    "    index = [\"price1\", \"price2\", \"price3\", \"price4\"]) \n"
   ]
  },
  {
   "cell_type": "code",
   "execution_count": 14,
   "metadata": {},
   "outputs": [
    {
     "ename": "NameError",
     "evalue": "name 'pandas' is not defined",
     "output_type": "error",
     "traceback": [
      "\u001b[1;31m---------------------------------------------------------------------------\u001b[0m",
      "\u001b[1;31mNameError\u001b[0m                                 Traceback (most recent call last)",
      "Input \u001b[1;32mIn [14]\u001b[0m, in \u001b[0;36m<cell line: 2>\u001b[1;34m()\u001b[0m\n\u001b[0;32m      1\u001b[0m \u001b[38;5;66;03m# Si no importamos pandas como pd podemos especificar su nombre completo\u001b[39;00m\n\u001b[1;32m----> 2\u001b[0m \u001b[43mpandas\u001b[49m\u001b[38;5;241m.\u001b[39mSeries([\u001b[38;5;241m40\u001b[39m, \u001b[38;5;241m20\u001b[39m, \u001b[38;5;241m35\u001b[39m, \u001b[38;5;241m70\u001b[39m], \n\u001b[0;32m      3\u001b[0m index \u001b[38;5;241m=\u001b[39m [\u001b[38;5;124m\"\u001b[39m\u001b[38;5;124mprice1\u001b[39m\u001b[38;5;124m\"\u001b[39m, \u001b[38;5;124m\"\u001b[39m\u001b[38;5;124mprice2\u001b[39m\u001b[38;5;124m\"\u001b[39m, \u001b[38;5;124m\"\u001b[39m\u001b[38;5;124mprice3\u001b[39m\u001b[38;5;124m\"\u001b[39m, \u001b[38;5;124m\"\u001b[39m\u001b[38;5;124mprice4\u001b[39m\u001b[38;5;124m\"\u001b[39m])\n",
      "\u001b[1;31mNameError\u001b[0m: name 'pandas' is not defined"
     ]
    }
   ],
   "source": [
    "# Si no importamos pandas como pd podemos especificar su nombre completo\n",
    "pandas.Series([40, 20, 35, 70], \n",
    "index = [\"price1\", \"price2\", \"price3\", \"price4\"])\n"
   ]
  },
  {
   "cell_type": "markdown",
   "metadata": {},
   "source": [
    "Las series de pandas estam sujetas a un indice, en caso de que no se especifique uno, se creara de manera automatica"
   ]
  },
  {
   "cell_type": "code",
   "execution_count": 15,
   "metadata": {},
   "outputs": [
    {
     "data": {
      "text/plain": [
       "0    25\n",
       "1    27\n",
       "2    28\n",
       "3    30\n",
       "dtype: int64"
      ]
     },
     "execution_count": 15,
     "metadata": {},
     "output_type": "execute_result"
    }
   ],
   "source": [
    "series3 = Series([25, 27, 28, 30])\n",
    "series3"
   ]
  },
  {
   "cell_type": "markdown",
   "metadata": {},
   "source": [
    "Para remplazar algunos elementos de en una serie usamos la funcion .replace "
   ]
  },
  {
   "cell_type": "code",
   "execution_count": 16,
   "metadata": {},
   "outputs": [
    {
     "data": {
      "text/plain": [
       "0    125\n",
       "1    127\n",
       "2     28\n",
       "3     30\n",
       "dtype: int64"
      ]
     },
     "execution_count": 16,
     "metadata": {},
     "output_type": "execute_result"
    }
   ],
   "source": [
    "series3.replace([25, 27], [125, 127])"
   ]
  },
  {
   "cell_type": "markdown",
   "metadata": {},
   "source": [
    "Ahora, creemos una serie con numeros aleatorios, para esto usaremos la libreria de NumPy, para eso primero importamos la libreria"
   ]
  },
  {
   "cell_type": "code",
   "execution_count": 17,
   "metadata": {},
   "outputs": [],
   "source": [
    "import numpy as np"
   ]
  },
  {
   "cell_type": "code",
   "execution_count": 18,
   "metadata": {},
   "outputs": [],
   "source": [
    "#Creamos nuestra serie con numero aleatorios\n",
    "series4 = pd.Series(np.random.randn(7))"
   ]
  },
  {
   "cell_type": "code",
   "execution_count": 19,
   "metadata": {},
   "outputs": [
    {
     "data": {
      "text/plain": [
       "0    1.488869\n",
       "1    1.232090\n",
       "2    0.339102\n",
       "3   -0.334304\n",
       "4    1.712287\n",
       "5   -0.554033\n",
       "6    0.379255\n",
       "dtype: float64"
      ]
     },
     "execution_count": 19,
     "metadata": {},
     "output_type": "execute_result"
    }
   ],
   "source": [
    "#imprimimos la serie y examinamos el indice\n",
    "series4"
   ]
  },
  {
   "cell_type": "code",
   "execution_count": 20,
   "metadata": {},
   "outputs": [],
   "source": [
    "#Podemos modificar el indice con .index() method\n",
    "series4.index = ['a', 'b', 'c', 'd', 'e', 'f', 'g']"
   ]
  },
  {
   "cell_type": "code",
   "execution_count": 22,
   "metadata": {},
   "outputs": [
    {
     "data": {
      "text/plain": [
       "a    1.488869\n",
       "b    1.232090\n",
       "c    0.339102\n",
       "d   -0.334304\n",
       "e    1.712287\n",
       "f   -0.554033\n",
       "g    0.379255\n",
       "dtype: float64"
      ]
     },
     "execution_count": 22,
     "metadata": {},
     "output_type": "execute_result"
    }
   ],
   "source": [
    "#Y checamos el indice otra vez\n",
    "series4"
   ]
  },
  {
   "cell_type": "code",
   "execution_count": 23,
   "metadata": {},
   "outputs": [],
   "source": [
    "#Ahora creamos otra serie con número aleatorios\n",
    "series5 = pd.Series(np.random.randn(7))"
   ]
  },
  {
   "cell_type": "code",
   "execution_count": 25,
   "metadata": {},
   "outputs": [
    {
     "data": {
      "text/plain": [
       "a    1.488869\n",
       "b    1.232090\n",
       "c    0.339102\n",
       "d   -0.334304\n",
       "e    1.712287\n",
       "f   -0.554033\n",
       "g    0.379255\n",
       "0   -1.415329\n",
       "1   -0.142624\n",
       "2    2.407070\n",
       "3    0.447075\n",
       "4    1.445659\n",
       "5   -1.185851\n",
       "6   -0.572737\n",
       "dtype: float64"
      ]
     },
     "execution_count": 25,
     "metadata": {},
     "output_type": "execute_result"
    }
   ],
   "source": [
    "# ahora uniremos dos series usando la función .concat()\n",
    "s45 = pd.concat([series4, series5])\n",
    "#imprimimos la serie\n",
    "s45\n"
   ]
  },
  {
   "cell_type": "code",
   "execution_count": 26,
   "metadata": {},
   "outputs": [
    {
     "data": {
      "text/plain": [
       "pandas.core.series.Series"
      ]
     },
     "execution_count": 26,
     "metadata": {},
     "output_type": "execute_result"
    }
   ],
   "source": [
    "#Checamos una de las estructuras creadas\n",
    "type(s45)"
   ]
  },
  {
   "cell_type": "code",
   "execution_count": 27,
   "metadata": {},
   "outputs": [
    {
     "data": {
      "text/plain": [
       "a    1.488869\n",
       "b    1.232090\n",
       "c    0.339102\n",
       "d   -0.334304\n",
       "e    1.712287\n",
       "f   -0.554033\n",
       "g    0.379255\n",
       "0   -1.415329\n",
       "1   -0.142624\n",
       "2    2.407070\n",
       "3    0.447075\n",
       "4    1.445659\n",
       "6   -0.572737\n",
       "dtype: float64"
      ]
     },
     "execution_count": 27,
     "metadata": {},
     "output_type": "execute_result"
    }
   ],
   "source": [
    "#Removemos alunos elementos de la serie\n",
    "del(s45[5])\n",
    "s45"
   ]
  },
  {
   "cell_type": "code",
   "execution_count": 28,
   "metadata": {},
   "outputs": [
    {
     "data": {
      "text/plain": [
       "a    1.488869\n",
       "b    1.232090\n",
       "c    0.339102\n",
       "d   -0.334304\n",
       "e    1.712287\n",
       "g    0.379255\n",
       "0   -1.415329\n",
       "1   -0.142624\n",
       "2    2.407070\n",
       "3    0.447075\n",
       "4    1.445659\n",
       "6   -0.572737\n",
       "dtype: float64"
      ]
     },
     "execution_count": 28,
     "metadata": {},
     "output_type": "execute_result"
    }
   ],
   "source": [
    "del(s45['f'])\n",
    "s45"
   ]
  }
 ],
 "metadata": {
  "colab": {
   "name": "Untitled1.ipynb",
   "provenance": []
  },
  "kernelspec": {
   "display_name": "Python 3 (ipykernel)",
   "language": "python",
   "name": "python3"
  },
  "language_info": {
   "codemirror_mode": {
    "name": "ipython",
    "version": 3
   },
   "file_extension": ".py",
   "mimetype": "text/x-python",
   "name": "python",
   "nbconvert_exporter": "python",
   "pygments_lexer": "ipython3",
   "version": "3.10.5"
  }
 },
 "nbformat": 4,
 "nbformat_minor": 1
}
